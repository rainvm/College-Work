{
 "cells": [
  {
   "cell_type": "code",
   "execution_count": null,
   "outputs": [],
   "source": [
    "%matplotlib inline\n",
    "import matplotlib.pyplot as plt\n",
    "import numpy as np"
   ],
   "metadata": {
    "collapsed": false
   },
   "id": "657e1b91c77833c2"
  },
  {
   "cell_type": "code",
   "execution_count": null,
   "outputs": [],
   "source": [
    "x = np.linspace(10, 200, 20)\n",
    "dist = []\n",
    "mean = []\n",
    "stdev = []\n",
    "for i in range(20):\n",
    "    dist.append( np.random.normal(0, 1, int(x[i])))\n",
    "    mean.append(np.mean(dist[i]))\n",
    "    stdev.append(np.std(dist[i]))\n",
    "\n",
    "fig, axes = plt.subplots(3,2, figsize=(16,12))\n",
    "\n",
    "axes[0, 0].plot(x, mean)\n",
    "axes[0, 0].set_title(\"Mean vs. N\")\n",
    "\n",
    "axes[0, 1].plot(x,stdev)\n",
    "axes[0, 1].set_title(\"Standard Deviation vs. N\")\n",
    "\n",
    "counts = []\n",
    "bins = []\n",
    "x = np.linspace(-4,4, 1000)\n",
    "\n",
    "for i in range(4):\n",
    "    n = int(2+3*i-i**2 / 2 + i**3 / 2)\n",
    "    c, b = np.histogram(dist[n-1])\n",
    "    counts.append(c)\n",
    "    bins.append(b)\n",
    "    ind = int(np.floor(i/2) + 1), i%2\n",
    "    axes[ind].stairs(counts[i], bins[i])\n",
    "    axes[ind].plot(x, np.exp(-1 * x**2)*max(counts[i]))\n",
    "    axes[ind].set_title(\"N={0}\".format(n*10))\n",
    "    axes[ind].set_yticks([],labels=None)\n",
    "plt.savefig('fig.png')\n",
    "    \n",
    "    "
   ],
   "metadata": {
    "collapsed": false
   },
   "id": "f2f82b77228f4ede"
  }
 ],
 "metadata": {
  "kernelspec": {
   "name": "phys601",
   "language": "python",
   "display_name": "Phys601"
  },
  "language_info": {
   "codemirror_mode": {
    "name": "ipython",
    "version": 2
   },
   "file_extension": ".py",
   "mimetype": "text/x-python",
   "name": "python",
   "nbconvert_exporter": "python",
   "pygments_lexer": "ipython2",
   "version": "2.7.6"
  }
 },
 "nbformat": 4,
 "nbformat_minor": 5
}
