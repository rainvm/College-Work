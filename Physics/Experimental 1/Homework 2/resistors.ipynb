{
 "cells": [
  {
   "cell_type": "code",
   "execution_count": 2,
   "id": "e320aa7b9b3c2a31",
   "metadata": {
    "ExecuteTime": {
     "end_time": "2024-02-16T00:13:04.933332400Z",
     "start_time": "2024-02-16T00:13:04.871176700Z"
    },
    "collapsed": false
   },
   "outputs": [],
   "source": [
    "from Electronics import Resistor"
   ]
  },
  {
   "cell_type": "markdown",
   "id": "85813f65b5ebf48",
   "metadata": {
    "collapsed": false
   },
   "source": [
    "# Question 3"
   ]
  },
  {
   "cell_type": "code",
   "execution_count": 3,
   "id": "initial_id",
   "metadata": {
    "ExecuteTime": {
     "end_time": "2024-02-16T00:13:04.934264400Z",
     "start_time": "2024-02-16T00:13:04.896718500Z"
    },
    "collapsed": true
   },
   "outputs": [
    {
     "name": "stdout",
     "output_type": "stream",
     "text": [
      "The thevanin potential is 2.5 V.\n",
      "The thevanin resistance is 8333.333333333334 Ω\n"
     ]
    }
   ],
   "source": [
    "r1 = Resistor(5000)\n",
    "r2 = Resistor(10000)\n",
    "r3 = Resistor(5000)\n",
    "r4 = Resistor(5000)\n",
    "req = r2 * (r3 + r4)\n",
    "vin = 10\n",
    "v2 = vin * (req.r / (r1.r + req.r))\n",
    "vth = v2 * (r4.r / (r3.r + r4.r))\n",
    "print(f\"The thevanin potential is {vth} V.\")\n",
    "rth = Resistor(5000) + (Resistor(10000) * Resistor(5000))\n",
    "print(f\"The thevanin resistance is {rth.r} Ω\")"
   ]
  },
  {
   "cell_type": "markdown",
   "id": "16772ca65009e844",
   "metadata": {
    "collapsed": false
   },
   "source": [
    "# Question 4"
   ]
  },
  {
   "cell_type": "code",
   "execution_count": 4,
   "id": "c359cd602bca449d",
   "metadata": {
    "ExecuteTime": {
     "end_time": "2024-02-16T00:13:05.021212400Z",
     "start_time": "2024-02-16T00:13:04.910258700Z"
    },
    "collapsed": false
   },
   "outputs": [
    {
     "name": "stdout",
     "output_type": "stream",
     "text": [
      "5400.00Ω, 0.68W with tolerance 1.0%\n"
     ]
    }
   ],
   "source": [
    "print(5*Resistor(1000) + 4*Resistor(100))"
   ]
  }
 ],
 "metadata": {
  "kernelspec": {
   "display_name": "Python 3",
   "language": "python",
   "name": "python3"
  },
  "language_info": {
   "codemirror_mode": {
    "name": "ipython",
    "version": 3
   },
   "file_extension": ".py",
   "mimetype": "text/x-python",
   "name": "python",
   "nbconvert_exporter": "python",
   "pygments_lexer": "ipython3",
   "version": "3.10.12"
  }
 },
 "nbformat": 4,
 "nbformat_minor": 5
}
