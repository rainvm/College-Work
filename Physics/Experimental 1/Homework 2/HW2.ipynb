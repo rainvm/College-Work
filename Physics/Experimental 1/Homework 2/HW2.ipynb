{
 "cells": [
  {
   "cell_type": "code",
   "execution_count": 1,
   "id": "initial_id",
   "metadata": {
    "collapsed": true,
    "ExecuteTime": {
     "end_time": "2024-02-12T22:14:20.462427200Z",
     "start_time": "2024-02-12T22:14:19.216132800Z"
    }
   },
   "outputs": [
    {
     "data": {
      "text/plain": "              Time      u1/v      u2/i\n0     0.000000e+00 -3.282628 -0.030534\n1     4.500000e-09 -3.282628 -0.030534\n2     1.350000e-08 -3.282628 -0.030534\n3     3.150000e-08 -3.282628 -0.030534\n4     6.300000e-08 -3.282628 -0.030534\n...            ...       ...       ...\n2667  9.966731e+00  0.698088  0.041979\n2668  9.977943e+00  0.698203  0.042080\n2669  9.989162e+00  0.698318  0.042182\n2670  1.000000e+01  0.698429  0.042280\n2671  1.000000e+01  0.698429  0.042280\n\n[2672 rows x 3 columns]",
      "text/html": "<div>\n<style scoped>\n    .dataframe tbody tr th:only-of-type {\n        vertical-align: middle;\n    }\n\n    .dataframe tbody tr th {\n        vertical-align: top;\n    }\n\n    .dataframe thead th {\n        text-align: right;\n    }\n</style>\n<table border=\"1\" class=\"dataframe\">\n  <thead>\n    <tr style=\"text-align: right;\">\n      <th></th>\n      <th>Time</th>\n      <th>u1/v</th>\n      <th>u2/i</th>\n    </tr>\n  </thead>\n  <tbody>\n    <tr>\n      <th>0</th>\n      <td>0.000000e+00</td>\n      <td>-3.282628</td>\n      <td>-0.030534</td>\n    </tr>\n    <tr>\n      <th>1</th>\n      <td>4.500000e-09</td>\n      <td>-3.282628</td>\n      <td>-0.030534</td>\n    </tr>\n    <tr>\n      <th>2</th>\n      <td>1.350000e-08</td>\n      <td>-3.282628</td>\n      <td>-0.030534</td>\n    </tr>\n    <tr>\n      <th>3</th>\n      <td>3.150000e-08</td>\n      <td>-3.282628</td>\n      <td>-0.030534</td>\n    </tr>\n    <tr>\n      <th>4</th>\n      <td>6.300000e-08</td>\n      <td>-3.282628</td>\n      <td>-0.030534</td>\n    </tr>\n    <tr>\n      <th>...</th>\n      <td>...</td>\n      <td>...</td>\n      <td>...</td>\n    </tr>\n    <tr>\n      <th>2667</th>\n      <td>9.966731e+00</td>\n      <td>0.698088</td>\n      <td>0.041979</td>\n    </tr>\n    <tr>\n      <th>2668</th>\n      <td>9.977943e+00</td>\n      <td>0.698203</td>\n      <td>0.042080</td>\n    </tr>\n    <tr>\n      <th>2669</th>\n      <td>9.989162e+00</td>\n      <td>0.698318</td>\n      <td>0.042182</td>\n    </tr>\n    <tr>\n      <th>2670</th>\n      <td>1.000000e+01</td>\n      <td>0.698429</td>\n      <td>0.042280</td>\n    </tr>\n    <tr>\n      <th>2671</th>\n      <td>1.000000e+01</td>\n      <td>0.698429</td>\n      <td>0.042280</td>\n    </tr>\n  </tbody>\n</table>\n<p>2672 rows × 3 columns</p>\n</div>"
     },
     "metadata": {},
     "output_type": "display_data"
    }
   ],
   "source": [
    "import pandas as pd\n",
    "from matplotlib import pyplot as plt\n",
    "\n",
    "zener = pd.read_csv(\"zener_diode.csv\", skiprows=[0, 1, 3, 4, 5, 6, 7, 8, 9, 10, 11])\n",
    "signal = pd.read_csv(\"signal_diode.csv\", skiprows=[0, 1, 3, 4, 5, 6, 7, 8, 9, 10, 11])\n",
    "zener_3v = pd.read_csv(\"1N5223_3.3V_zener_diode.csv\", skiprows=[0, 1, 3, 4, 5, 6, 7, 8, 9, 10, 11])\n",
    "bzt = pd.read_csv(\"BZT52C2V7_zener_diode.csv\", skiprows=[0, 1, 3, 4, 5, 6, 7, 8, 9, 10, 11])\n",
    "fig, axes = plt.subplots(4)\n",
    "\n"
   ]
  }
 ],
 "metadata": {
  "kernelspec": {
   "display_name": "Python 3",
   "language": "python",
   "name": "python3"
  },
  "language_info": {
   "codemirror_mode": {
    "name": "ipython",
    "version": 2
   },
   "file_extension": ".py",
   "mimetype": "text/x-python",
   "name": "python",
   "nbconvert_exporter": "python",
   "pygments_lexer": "ipython2",
   "version": "2.7.6"
  }
 },
 "nbformat": 4,
 "nbformat_minor": 5
}
