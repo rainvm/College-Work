{
 "cells": [
  {
   "cell_type": "code",
   "execution_count": 18,
   "id": "initial_id",
   "metadata": {
    "collapsed": true,
    "ExecuteTime": {
     "end_time": "2024-01-31T20:19:23.400360800Z",
     "start_time": "2024-01-31T20:19:23.337298500Z"
    }
   },
   "outputs": [],
   "source": [
    "import pandas as pd\n",
    "import matplotlib.pyplot as plt\n",
    "\n",
    "files = ['blue led.csv', 'red led.csv', 'green led.csv', 'yellow led.csv', 'white led.csv', 'rectifier diode.csv', 'z diode.csv', 'signal diode.csv']\n",
    "data = []\n",
    "for i in range(len(files)):\n",
    "    data.append(pd.read_csv(files[i], skiprows=21, encoding='cp1252').style.set_caption(files[i]))\n",
    "    "
   ]
  },
  {
   "cell_type": "code",
   "outputs": [],
   "source": [],
   "metadata": {
    "collapsed": false
   },
   "id": "2f8cdb4358fbad39"
  }
 ],
 "metadata": {
  "kernelspec": {
   "display_name": "Python 3",
   "language": "python",
   "name": "python3"
  },
  "language_info": {
   "codemirror_mode": {
    "name": "ipython",
    "version": 2
   },
   "file_extension": ".py",
   "mimetype": "text/x-python",
   "name": "python",
   "nbconvert_exporter": "python",
   "pygments_lexer": "ipython2",
   "version": "2.7.6"
  }
 },
 "nbformat": 4,
 "nbformat_minor": 5
}
