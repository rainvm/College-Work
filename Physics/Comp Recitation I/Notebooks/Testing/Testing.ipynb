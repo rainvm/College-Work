{
 "cells": [
  {
   "cell_type": "code",
   "execution_count": 122,
   "id": "initial_id",
   "metadata": {
    "collapsed": true,
    "ExecuteTime": {
     "end_time": "2023-09-05T22:42:11.340838200Z",
     "start_time": "2023-09-05T22:42:11.289339500Z"
    }
   },
   "outputs": [
    {
     "name": "stdout",
     "output_type": "stream",
     "text": [
      "first print: [[1 5 7 9 10]] [[2 4 6 8 9]]\n"
     ]
    },
    {
     "ename": "TypeError",
     "evalue": "only integer scalar arrays can be converted to a scalar index",
     "output_type": "error",
     "traceback": [
      "\u001B[1;31m---------------------------------------------------------------------------\u001B[0m",
      "\u001B[1;31mTypeError\u001B[0m                                 Traceback (most recent call last)",
      "Cell \u001B[1;32mIn[122], line 33\u001B[0m\n\u001B[0;32m     30\u001B[0m j\u001B[38;5;241m=\u001B[39mnp\u001B[38;5;241m.\u001B[39marray(j, dtype\u001B[38;5;241m=\u001B[39m\u001B[38;5;28mobject\u001B[39m)\n\u001B[0;32m     32\u001B[0m \u001B[38;5;28mprint\u001B[39m(\u001B[38;5;124m\"\u001B[39m\u001B[38;5;124mfirst print:\u001B[39m\u001B[38;5;124m\"\u001B[39m, temp, j)\n\u001B[1;32m---> 33\u001B[0m temp \u001B[38;5;241m=\u001B[39m \u001B[43mnp\u001B[49m\u001B[38;5;241;43m.\u001B[39;49m\u001B[43mconcatenate\u001B[49m\u001B[43m(\u001B[49m\u001B[43mtemp\u001B[49m\u001B[43m,\u001B[49m\u001B[43m \u001B[49m\u001B[43mj\u001B[49m\u001B[43m)\u001B[49m\n\u001B[0;32m     34\u001B[0m \u001B[38;5;28mprint\u001B[39m(\u001B[38;5;28mlen\u001B[39m(temp))\n\u001B[0;32m     35\u001B[0m \u001B[38;5;28mprint\u001B[39m(\u001B[38;5;124m\"\u001B[39m\u001B[38;5;124msecond print: \u001B[39m\u001B[38;5;124m\"\u001B[39m,temp, \u001B[38;5;124m\"\u001B[39m\u001B[38;5;130;01m\\n\u001B[39;00m\u001B[38;5;124m\"\u001B[39m)\n",
      "\u001B[1;31mTypeError\u001B[0m: only integer scalar arrays can be converted to a scalar index"
     ]
    }
   ],
   "source": [
    "import numpy as np\n",
    "S = np.array([[1,5,7,9,10], \n",
    "     [1,2,3,6,9], \n",
    "     [2,4,6,8,9], \n",
    "     [2,4,6], \n",
    "     [3,5,8], \n",
    "     [3,6,10], \n",
    "     [4,5,7,9], \n",
    "     [4,7,10], \n",
    "     [4,6,8], \n",
    "     [7,8,10], \n",
    "     [6,7,9], \n",
    "     [5,8,10], \n",
    "     [6,8,9]], dtype=object)\n",
    "P = []\n",
    "for i in S:\n",
    "    temp = np.array([i], dtype=object)\n",
    "    for j in S:\n",
    "        j = [j]\n",
    "        passed = True\n",
    "        for k in j:\n",
    "            for a in temp:\n",
    "                for b in a:\n",
    "                    if np.isin(b, k):\n",
    "                        passed = False\n",
    "                    break\n",
    "            if not passed:\n",
    "                break\n",
    "        if passed:\n",
    "            j=np.array(j, dtype=object)\n",
    "            \n",
    "            print(\"first print:\", temp, j)\n",
    "            temp = np.concatenate(temp, j)\n",
    "            print(len(temp))\n",
    "            print(\"second print: \",temp, \"\\n\")\n",
    "    "
   ]
  }
 ],
 "metadata": {
  "kernelspec": {
   "name": "phys601",
   "language": "python",
   "display_name": "Phys601"
  },
  "language_info": {
   "codemirror_mode": {
    "name": "ipython",
    "version": 2
   },
   "file_extension": ".py",
   "mimetype": "text/x-python",
   "name": "python",
   "nbconvert_exporter": "python",
   "pygments_lexer": "ipython2",
   "version": "2.7.6"
  }
 },
 "nbformat": 4,
 "nbformat_minor": 5
}
